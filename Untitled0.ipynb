{
  "nbformat": 4,
  "nbformat_minor": 0,
  "metadata": {
    "colab": {
      "provenance": [],
      "authorship_tag": "ABX9TyNB3Lq8vnlPbB3NreGdLNhk",
      "include_colab_link": true
    },
    "kernelspec": {
      "name": "python3",
      "display_name": "Python 3"
    },
    "language_info": {
      "name": "python"
    }
  },
  "cells": [
    {
      "cell_type": "markdown",
      "metadata": {
        "id": "view-in-github",
        "colab_type": "text"
      },
      "source": [
        "<a href=\"https://colab.research.google.com/github/Majo-ux00/md-/blob/main/Untitled0.ipynb\" target=\"_parent\"><img src=\"https://colab.research.google.com/assets/colab-badge.svg\" alt=\"Open In Colab\"/></a>"
      ]
    },
    {
      "cell_type": "code",
      "execution_count": null,
      "metadata": {
        "colab": {
          "base_uri": "https://localhost:8080/"
        },
        "id": "7zBrrCaMYZ1A",
        "outputId": "ec3692aa-1c4e-4127-cffc-3fa4a0956988"
      },
      "outputs": [
        {
          "output_type": "stream",
          "name": "stdout",
          "text": [
            "mi nombre es maria\n"
          ]
        }
      ],
      "source": [
        "print(\"mi nombre es maria\")"
      ]
    },
    {
      "cell_type": "code",
      "source": [
        "# mi nuevo codigo en python"
      ],
      "metadata": {
        "id": "zBMYLC4xZ8J8"
      },
      "execution_count": null,
      "outputs": []
    },
    {
      "cell_type": "markdown",
      "source": [
        "ygyuhfu\n"
      ],
      "metadata": {
        "id": "cKpFsS73b3N8"
      }
    },
    {
      "cell_type": "code",
      "source": [
        "import pandas as pd\n",
        "tabela= pd."
      ],
      "metadata": {
        "id": "-6goKn4JaVgQ"
      },
      "execution_count": null,
      "outputs": []
    },
    {
      "cell_type": "code",
      "source": [
        "import sqlite3\n",
        "import pandas as pd # Usaremos pandas para mostrar los resultados de forma más legible\n",
        "\n",
        "# 1. Conectar a una base de datos (se creará un archivo .db si no existe)\n",
        "#    En Colab, esto creará el archivo en el directorio de sesión temporal.\n",
        "conn = sqlite3.connect('mi_base_de_datos_ejemplo.db')\n",
        "cursor = conn.cursor()\n",
        "\n",
        "print(\"Base de datos conectada exitosamente.\")\n",
        "\n",
        "# 2. Crear una tabla (Entidad)\n",
        "#    Basado en el concepto de \"Entidad\" como una tabla que representa un objeto del mundo real [3]\n",
        "#    y \"Atributo\" como una columna [3].\n",
        "#    Esto es análogo a la operación CREATE mencionada en la manipulación de bases de datos [1].\n",
        "try:\n",
        "    cursor.execute('''\n",
        "        CREATE TABLE Estudiantes (\n",
        "            id INTEGER PRIMARY KEY,\n",
        "            nombre TEXT NOT NULL,\n",
        "            edad INTEGER,\n",
        "            carrera TEXT\n",
        "        )\n",
        "    ''')\n",
        "    print(\"Tabla 'Estudiantes' creada exitosamente.\")\n",
        "except sqlite3.OperationalError as e:\n",
        "    print(f\"Error al crear tabla (posiblemente ya existe): {e}\")\n",
        "\n",
        "# 3. Insertar datos (Registros)\n",
        "#    Cada fila es un \"Registro\" con datos para cada entidad [3].\n",
        "#    Esto es análogo a la operación INSERT mencionada [1].\n",
        "try:\n",
        "    cursor.execute(\"INSERT INTO Estudiantes (nombre, edad, carrera) VALUES (?, ?, ?)\", ('Juan Pérez', 20, 'Ingeniería'))\n",
        "    cursor.execute(\"INSERT INTO Estudiantes (nombre, edad, carrera) VALUES (?, ?, ?)\", ('María García', 22, 'Ciencias de la Computación'))\n",
        "    cursor.execute(\"INSERT INTO Estudiantes (nombre, edad, carrera) VALUES (?, ?, ?)\", ('Carlos López', 21, 'Matemáticas'))\n",
        "    conn.commit() # Guardar los cambios\n",
        "    print(\"Datos insertados exitosamente.\")\n",
        "except sqlite3.Error as e:\n",
        "    print(f\"Error al insertar datos: {e}\")\n",
        "\n",
        "# 4. Seleccionar datos (Consultar)\n",
        "#    Esto es análogo a la operación SELECT mencionada [1].\n",
        "print(\"\\nDatos en la tabla 'Estudiantes':\")\n",
        "cursor.execute(\"SELECT * FROM Estudiantes\")\n",
        "rows = cursor.fetchall()\n",
        "\n",
        "if rows:\n",
        "    # Obtener nombres de columnas\n",
        "    column_names = [description for description in cursor.description]\n",
        "    df = pd.DataFrame(rows, columns=column_names)\n",
        "    print(df.to_string(index=False))\n",
        "else:\n",
        "    print(\"No hay datos en la tabla.\")\n",
        "\n",
        "# 5. Actualizar un registro (Ejemplo de UPDATE)\n",
        "#    Esto es análogo a la operación UPDATE mencionada [1].\n",
        "try:\n",
        "    cursor.execute(\"UPDATE Estudiantes SET edad = ? WHERE nombre = ?\", (23, 'María García'))\n",
        "    conn.commit()\n",
        "    print(\"\\nRegistro de María García actualizado a edad 23.\")\n",
        "except sqlite3.Error as e:\n",
        "    print(f\"Error al actualizar datos: {e}\")\n",
        "\n",
        "# 6. Seleccionar datos después de la actualización para verificar\n",
        "print(\"\\nDatos en la tabla 'Estudiantes' después de la actualización:\")\n",
        "cursor.execute(\"SELECT * FROM Estudiantes\")\n",
        "rows_after_update = cursor.fetchall()\n",
        "if rows_after_update:\n",
        "    column_names = [description for description in cursor.description]\n",
        "    df_after_update = pd.DataFrame(rows_after_update, columns=column_names)\n",
        "    print(df_after_update.to_string(index=False))\n",
        "\n",
        "# 7. Eliminar un registro (Ejemplo de DELETE)\n",
        "#    Esto es análogo a la operación DELETE mencionada [1].\n",
        "try:\n",
        "    cursor.execute(\"DELETE FROM Estudiantes WHERE nombre = ?\", ('Carlos López',))\n",
        "    conn.commit()\n",
        "    print(\"\\nRegistro de Carlos López eliminado.\")\n",
        "except sqlite3.Error as e:\n",
        "    print(f\"Error al eliminar datos: {e}\")\n",
        "\n",
        "# 8. Seleccionar datos después de la eliminación para verificar\n",
        "print(\"\\nDatos en la tabla 'Estudiantes' después de la eliminación:\")\n",
        "cursor.execute(\"SELECT * FROM Estudiantes\")\n",
        "rows_after_delete = cursor.fetchall()\n",
        "if rows_after_delete:\n",
        "    column_names = [description for description in cursor.description]\n",
        "    df_after_delete = pd.DataFrame(rows_after_delete, columns=column_names)\n",
        "    print(df_after_delete.to_string(index=False))\n",
        "else:\n",
        "    print(\"No hay datos en la tabla después de la eliminación.\")\n",
        "\n",
        "# 9. Cerrar la conexión\n",
        "conn.close()\n",
        "print(\"\\nConexión a la base de datos cerrada.\")"
      ],
      "metadata": {
        "colab": {
          "base_uri": "https://localhost:8080/"
        },
        "id": "WqmJzIB1k86E",
        "outputId": "02e4ea4f-fcac-4636-88a5-fa52ac3e100f"
      },
      "execution_count": 1,
      "outputs": [
        {
          "output_type": "stream",
          "name": "stdout",
          "text": [
            "Base de datos conectada exitosamente.\n",
            "Tabla 'Estudiantes' creada exitosamente.\n",
            "Datos insertados exitosamente.\n",
            "\n",
            "Datos en la tabla 'Estudiantes':\n",
            " (id, None, None, None, None, None, None) (nombre, None, None, None, None, None, None)  (edad, None, None, None, None, None, None) (carrera, None, None, None, None, None, None)\n",
            "                                        1                                   Juan Pérez                                          20                                    Ingeniería\n",
            "                                        2                                 María García                                          22                    Ciencias de la Computación\n",
            "                                        3                                 Carlos López                                          21                                   Matemáticas\n",
            "\n",
            "Registro de María García actualizado a edad 23.\n",
            "\n",
            "Datos en la tabla 'Estudiantes' después de la actualización:\n",
            " (id, None, None, None, None, None, None) (nombre, None, None, None, None, None, None)  (edad, None, None, None, None, None, None) (carrera, None, None, None, None, None, None)\n",
            "                                        1                                   Juan Pérez                                          20                                    Ingeniería\n",
            "                                        2                                 María García                                          23                    Ciencias de la Computación\n",
            "                                        3                                 Carlos López                                          21                                   Matemáticas\n",
            "\n",
            "Registro de Carlos López eliminado.\n",
            "\n",
            "Datos en la tabla 'Estudiantes' después de la eliminación:\n",
            " (id, None, None, None, None, None, None) (nombre, None, None, None, None, None, None)  (edad, None, None, None, None, None, None) (carrera, None, None, None, None, None, None)\n",
            "                                        1                                   Juan Pérez                                          20                                    Ingeniería\n",
            "                                        2                                 María García                                          23                    Ciencias de la Computación\n",
            "\n",
            "Conexión a la base de datos cerrada.\n"
          ]
        }
      ]
    }
  ]
}